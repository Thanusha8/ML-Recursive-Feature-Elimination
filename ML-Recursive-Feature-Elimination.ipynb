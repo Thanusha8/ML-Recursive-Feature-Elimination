{
 "cells": [
  {
   "cell_type": "code",
   "execution_count": 19,
   "id": "d4f06adc-869b-46ab-8d14-39435c69e578",
   "metadata": {},
   "outputs": [],
   "source": [
    "import pandas as pd\n",
    "from sklearn.linear_model import LinearRegression\n",
    "from sklearn.feature_selection import RFE,RFECV"
   ]
  },
  {
   "cell_type": "code",
   "execution_count": 2,
   "id": "18c2e108-149a-42cb-a619-c85ee1c09514",
   "metadata": {},
   "outputs": [],
   "source": [
    "data=pd.read_csv(\"C:\\\\Thanusha\\\\Python\\\\ML master class\\\\RFE\\\\Data\\\\Boston.csv\")"
   ]
  },
  {
   "cell_type": "code",
   "execution_count": 4,
   "id": "7ddc2bf2-c787-47ea-b0be-0d4fac6f9e2a",
   "metadata": {},
   "outputs": [
    {
     "data": {
      "text/html": [
       "<div>\n",
       "<style scoped>\n",
       "    .dataframe tbody tr th:only-of-type {\n",
       "        vertical-align: middle;\n",
       "    }\n",
       "\n",
       "    .dataframe tbody tr th {\n",
       "        vertical-align: top;\n",
       "    }\n",
       "\n",
       "    .dataframe thead th {\n",
       "        text-align: right;\n",
       "    }\n",
       "</style>\n",
       "<table border=\"1\" class=\"dataframe\">\n",
       "  <thead>\n",
       "    <tr style=\"text-align: right;\">\n",
       "      <th></th>\n",
       "      <th>crim</th>\n",
       "      <th>zn</th>\n",
       "      <th>indus</th>\n",
       "      <th>nox</th>\n",
       "      <th>rm</th>\n",
       "      <th>age</th>\n",
       "      <th>dis</th>\n",
       "      <th>rad</th>\n",
       "      <th>tax</th>\n",
       "      <th>ptratio</th>\n",
       "      <th>black</th>\n",
       "      <th>lstat</th>\n",
       "      <th>medv</th>\n",
       "    </tr>\n",
       "  </thead>\n",
       "  <tbody>\n",
       "    <tr>\n",
       "      <th>0</th>\n",
       "      <td>0.00632</td>\n",
       "      <td>18.0</td>\n",
       "      <td>2.31</td>\n",
       "      <td>0.538</td>\n",
       "      <td>6.575</td>\n",
       "      <td>65.2</td>\n",
       "      <td>4.0900</td>\n",
       "      <td>1</td>\n",
       "      <td>296</td>\n",
       "      <td>15.3</td>\n",
       "      <td>396.90</td>\n",
       "      <td>4.98</td>\n",
       "      <td>24.0</td>\n",
       "    </tr>\n",
       "    <tr>\n",
       "      <th>1</th>\n",
       "      <td>0.02731</td>\n",
       "      <td>0.0</td>\n",
       "      <td>7.07</td>\n",
       "      <td>0.469</td>\n",
       "      <td>6.421</td>\n",
       "      <td>78.9</td>\n",
       "      <td>4.9671</td>\n",
       "      <td>2</td>\n",
       "      <td>242</td>\n",
       "      <td>17.8</td>\n",
       "      <td>396.90</td>\n",
       "      <td>9.14</td>\n",
       "      <td>21.6</td>\n",
       "    </tr>\n",
       "    <tr>\n",
       "      <th>2</th>\n",
       "      <td>0.02729</td>\n",
       "      <td>0.0</td>\n",
       "      <td>7.07</td>\n",
       "      <td>0.469</td>\n",
       "      <td>7.185</td>\n",
       "      <td>61.1</td>\n",
       "      <td>4.9671</td>\n",
       "      <td>2</td>\n",
       "      <td>242</td>\n",
       "      <td>17.8</td>\n",
       "      <td>392.83</td>\n",
       "      <td>4.03</td>\n",
       "      <td>34.7</td>\n",
       "    </tr>\n",
       "    <tr>\n",
       "      <th>3</th>\n",
       "      <td>0.03237</td>\n",
       "      <td>0.0</td>\n",
       "      <td>2.18</td>\n",
       "      <td>0.458</td>\n",
       "      <td>6.998</td>\n",
       "      <td>45.8</td>\n",
       "      <td>6.0622</td>\n",
       "      <td>3</td>\n",
       "      <td>222</td>\n",
       "      <td>18.7</td>\n",
       "      <td>394.63</td>\n",
       "      <td>2.94</td>\n",
       "      <td>33.4</td>\n",
       "    </tr>\n",
       "    <tr>\n",
       "      <th>4</th>\n",
       "      <td>0.06905</td>\n",
       "      <td>0.0</td>\n",
       "      <td>2.18</td>\n",
       "      <td>0.458</td>\n",
       "      <td>7.147</td>\n",
       "      <td>54.2</td>\n",
       "      <td>6.0622</td>\n",
       "      <td>3</td>\n",
       "      <td>222</td>\n",
       "      <td>18.7</td>\n",
       "      <td>396.90</td>\n",
       "      <td>5.33</td>\n",
       "      <td>36.2</td>\n",
       "    </tr>\n",
       "  </tbody>\n",
       "</table>\n",
       "</div>"
      ],
      "text/plain": [
       "      crim    zn  indus    nox     rm   age     dis  rad  tax  ptratio  \\\n",
       "0  0.00632  18.0   2.31  0.538  6.575  65.2  4.0900    1  296     15.3   \n",
       "1  0.02731   0.0   7.07  0.469  6.421  78.9  4.9671    2  242     17.8   \n",
       "2  0.02729   0.0   7.07  0.469  7.185  61.1  4.9671    2  242     17.8   \n",
       "3  0.03237   0.0   2.18  0.458  6.998  45.8  6.0622    3  222     18.7   \n",
       "4  0.06905   0.0   2.18  0.458  7.147  54.2  6.0622    3  222     18.7   \n",
       "\n",
       "    black  lstat  medv  \n",
       "0  396.90   4.98  24.0  \n",
       "1  396.90   9.14  21.6  \n",
       "2  392.83   4.03  34.7  \n",
       "3  394.63   2.94  33.4  \n",
       "4  396.90   5.33  36.2  "
      ]
     },
     "execution_count": 4,
     "metadata": {},
     "output_type": "execute_result"
    }
   ],
   "source": [
    "data.head()"
   ]
  },
  {
   "cell_type": "code",
   "execution_count": 5,
   "id": "5e4951d5-8b25-4637-991c-1c9c1de8433b",
   "metadata": {},
   "outputs": [],
   "source": [
    "x=data.iloc[:,:12]\n",
    "y=data.iloc[:,12]"
   ]
  },
  {
   "cell_type": "code",
   "execution_count": 6,
   "id": "28f2fcd0-f052-4683-b698-69209ef669ea",
   "metadata": {},
   "outputs": [],
   "source": [
    "model = LinearRegression()"
   ]
  },
  {
   "cell_type": "code",
   "execution_count": null,
   "id": "64f68d07-8e9b-40ef-ab46-f74c518f5fde",
   "metadata": {},
   "outputs": [],
   "source": []
  },
  {
   "cell_type": "code",
   "execution_count": null,
   "id": "ba38a65f-7f27-443b-bb1a-52d62f681e6c",
   "metadata": {},
   "outputs": [],
   "source": [
    "   # 01. Recursive Feature Elimination"
   ]
  },
  {
   "cell_type": "code",
   "execution_count": 7,
   "id": "f38bdabf-67ae-4197-9ba8-ac13753f8cc0",
   "metadata": {},
   "outputs": [],
   "source": [
    "rfe = RFE(estimator= model, n_features_to_select=7)"
   ]
  },
  {
   "cell_type": "code",
   "execution_count": null,
   "id": "efed4f4c-943b-4904-8907-3d312262bce2",
   "metadata": {},
   "outputs": [],
   "source": []
  },
  {
   "cell_type": "code",
   "execution_count": null,
   "id": "917971b7-762a-4357-848a-6a14eb0b00a5",
   "metadata": {},
   "outputs": [],
   "source": [
    "## methord 01"
   ]
  },
  {
   "cell_type": "code",
   "execution_count": 8,
   "id": "dda6e4ce-d501-4d30-8b1d-5c3baf0d50b5",
   "metadata": {},
   "outputs": [],
   "source": [
    "results= rfe.fit(x,y)"
   ]
  },
  {
   "cell_type": "code",
   "execution_count": null,
   "id": "15aa268c-1830-436f-b5b8-df2d8f851d2c",
   "metadata": {},
   "outputs": [],
   "source": []
  },
  {
   "cell_type": "code",
   "execution_count": 9,
   "id": "fa2e08fb-8a0a-4308-a41e-592610912a8c",
   "metadata": {},
   "outputs": [
    {
     "data": {
      "text/plain": [
       "7"
      ]
     },
     "execution_count": 9,
     "metadata": {},
     "output_type": "execute_result"
    }
   ],
   "source": [
    "results.n_features_"
   ]
  },
  {
   "cell_type": "code",
   "execution_count": 10,
   "id": "2a9cbc91-d9a5-47b8-9a30-ff6da0b8932c",
   "metadata": {},
   "outputs": [
    {
     "data": {
      "text/plain": [
       "array([ True, False, False,  True,  True, False,  True,  True, False,\n",
       "        True, False,  True])"
      ]
     },
     "execution_count": 10,
     "metadata": {},
     "output_type": "execute_result"
    }
   ],
   "source": [
    "results.support_"
   ]
  },
  {
   "cell_type": "code",
   "execution_count": 11,
   "id": "c5803929-8073-44e2-928e-e90c5fb9179f",
   "metadata": {},
   "outputs": [],
   "source": [
    "selected = x.columns[results.support_]  "
   ]
  },
  {
   "cell_type": "code",
   "execution_count": null,
   "id": "062d61c7-5eab-4819-bd4c-4d3ec6c97912",
   "metadata": {},
   "outputs": [],
   "source": []
  },
  {
   "cell_type": "code",
   "execution_count": 12,
   "id": "43448fd7-7669-4c69-8011-19fcbc0fa751",
   "metadata": {},
   "outputs": [],
   "source": [
    "x_new= x[selected]"
   ]
  },
  {
   "cell_type": "code",
   "execution_count": 13,
   "id": "8d319d09-8cba-426f-a327-a1c80174526e",
   "metadata": {},
   "outputs": [],
   "source": [
    "x_new= x_new.values"
   ]
  },
  {
   "cell_type": "code",
   "execution_count": 14,
   "id": "35502c3a-f47f-4275-981d-d9198dfb95aa",
   "metadata": {},
   "outputs": [
    {
     "data": {
      "text/plain": [
       "array([[6.3200e-03, 5.3800e-01, 6.5750e+00, ..., 1.0000e+00, 1.5300e+01,\n",
       "        4.9800e+00],\n",
       "       [2.7310e-02, 4.6900e-01, 6.4210e+00, ..., 2.0000e+00, 1.7800e+01,\n",
       "        9.1400e+00],\n",
       "       [2.7290e-02, 4.6900e-01, 7.1850e+00, ..., 2.0000e+00, 1.7800e+01,\n",
       "        4.0300e+00],\n",
       "       ...,\n",
       "       [6.0760e-02, 5.7300e-01, 6.9760e+00, ..., 1.0000e+00, 2.1000e+01,\n",
       "        5.6400e+00],\n",
       "       [1.0959e-01, 5.7300e-01, 6.7940e+00, ..., 1.0000e+00, 2.1000e+01,\n",
       "        6.4800e+00],\n",
       "       [4.7410e-02, 5.7300e-01, 6.0300e+00, ..., 1.0000e+00, 2.1000e+01,\n",
       "        7.8800e+00]])"
      ]
     },
     "execution_count": 14,
     "metadata": {},
     "output_type": "execute_result"
    }
   ],
   "source": [
    "x_new"
   ]
  },
  {
   "cell_type": "code",
   "execution_count": 15,
   "id": "5d8822d6-65c4-4535-8862-49ba1f3f589b",
   "metadata": {},
   "outputs": [
    {
     "data": {
      "text/plain": [
       "0      24.0\n",
       "1      21.6\n",
       "2      34.7\n",
       "3      33.4\n",
       "4      36.2\n",
       "       ... \n",
       "501    22.4\n",
       "502    20.6\n",
       "503    23.9\n",
       "504    22.0\n",
       "505    11.9\n",
       "Name: medv, Length: 506, dtype: float64"
      ]
     },
     "execution_count": 15,
     "metadata": {},
     "output_type": "execute_result"
    }
   ],
   "source": [
    "y"
   ]
  },
  {
   "cell_type": "code",
   "execution_count": 17,
   "id": "96e3ef36-91d1-4603-8391-88ffc04f6d46",
   "metadata": {},
   "outputs": [
    {
     "data": {
      "text/plain": [
       "array([1, 3, 2, 1, 1, 6, 1, 1, 4, 1, 5, 1])"
      ]
     },
     "execution_count": 17,
     "metadata": {},
     "output_type": "execute_result"
    }
   ],
   "source": [
    "results.ranking_"
   ]
  },
  {
   "cell_type": "code",
   "execution_count": null,
   "id": "81aa58cd-2eda-4052-9f2f-2d633ae00d0f",
   "metadata": {},
   "outputs": [],
   "source": []
  },
  {
   "cell_type": "code",
   "execution_count": 34,
   "id": "c65f1887-53b3-40a5-b80a-e247ddd3694e",
   "metadata": {},
   "outputs": [],
   "source": [
    "## methord 02  "
   ]
  },
  {
   "cell_type": "code",
   "execution_count": 16,
   "id": "0547fbbb-df14-474f-8cb5-86d50d2845b8",
   "metadata": {},
   "outputs": [
    {
     "data": {
      "text/plain": [
       "array([[6.3200e-03, 5.3800e-01, 6.5750e+00, ..., 1.0000e+00, 1.5300e+01,\n",
       "        4.9800e+00],\n",
       "       [2.7310e-02, 4.6900e-01, 6.4210e+00, ..., 2.0000e+00, 1.7800e+01,\n",
       "        9.1400e+00],\n",
       "       [2.7290e-02, 4.6900e-01, 7.1850e+00, ..., 2.0000e+00, 1.7800e+01,\n",
       "        4.0300e+00],\n",
       "       ...,\n",
       "       [6.0760e-02, 5.7300e-01, 6.9760e+00, ..., 1.0000e+00, 2.1000e+01,\n",
       "        5.6400e+00],\n",
       "       [1.0959e-01, 5.7300e-01, 6.7940e+00, ..., 1.0000e+00, 2.1000e+01,\n",
       "        6.4800e+00],\n",
       "       [4.7410e-02, 5.7300e-01, 6.0300e+00, ..., 1.0000e+00, 2.1000e+01,\n",
       "        7.8800e+00]])"
      ]
     },
     "execution_count": 16,
     "metadata": {},
     "output_type": "execute_result"
    }
   ],
   "source": [
    "x_new1 = rfe.fit_transform(x,y)\n",
    "x_new1"
   ]
  },
  {
   "cell_type": "code",
   "execution_count": null,
   "id": "f1eb8617-59c5-4f10-8f46-dfc9a12f48e3",
   "metadata": {},
   "outputs": [],
   "source": []
  },
  {
   "cell_type": "code",
   "execution_count": null,
   "id": "77d0673e-24c4-40fc-a54c-f9ef2857c2f1",
   "metadata": {},
   "outputs": [],
   "source": [
    "          # 02. Recursive Feature Elimination with Cross-Validated"
   ]
  },
  {
   "cell_type": "code",
   "execution_count": 20,
   "id": "d14d0b63-affc-49f7-be10-6c3f8d790f7e",
   "metadata": {},
   "outputs": [],
   "source": [
    "rfecv = RFECV(estimator=model, min_features_to_select=1 , cv =10)"
   ]
  },
  {
   "cell_type": "code",
   "execution_count": null,
   "id": "1bec4bcc-93f9-4b3e-a62e-0ad431db0a67",
   "metadata": {},
   "outputs": [],
   "source": []
  },
  {
   "cell_type": "code",
   "execution_count": null,
   "id": "9b02850d-7dda-4aa0-98ff-0a5846499aeb",
   "metadata": {},
   "outputs": [],
   "source": [
    "# methord 01"
   ]
  },
  {
   "cell_type": "code",
   "execution_count": 22,
   "id": "a86bd2dd-3195-4650-addd-63e23dcfd93b",
   "metadata": {},
   "outputs": [],
   "source": [
    "result2= rfecv.fit(x,y)"
   ]
  },
  {
   "cell_type": "code",
   "execution_count": 23,
   "id": "169670a9-1678-4001-9ff9-278cf8f1fc35",
   "metadata": {},
   "outputs": [
    {
     "data": {
      "text/plain": [
       "array([False, False, False,  True,  True, False,  True, False, False,\n",
       "        True, False,  True])"
      ]
     },
     "execution_count": 23,
     "metadata": {},
     "output_type": "execute_result"
    }
   ],
   "source": [
    "result2.support_"
   ]
  },
  {
   "cell_type": "code",
   "execution_count": 25,
   "id": "af20f1f8-20d6-4955-8f53-c35724f2cbe6",
   "metadata": {},
   "outputs": [
    {
     "data": {
      "text/plain": [
       "Index(['nox', 'rm', 'dis', 'ptratio', 'lstat'], dtype='object')"
      ]
     },
     "execution_count": 25,
     "metadata": {},
     "output_type": "execute_result"
    }
   ],
   "source": [
    "x.columns[result2.support_]"
   ]
  },
  {
   "cell_type": "code",
   "execution_count": 27,
   "id": "5c4fec7b-643c-42ba-88da-d7d58322e84c",
   "metadata": {},
   "outputs": [
    {
     "data": {
      "text/plain": [
       "array([[ 0.538 ,  6.575 ,  4.09  , 15.3   ,  4.98  ],\n",
       "       [ 0.469 ,  6.421 ,  4.9671, 17.8   ,  9.14  ],\n",
       "       [ 0.469 ,  7.185 ,  4.9671, 17.8   ,  4.03  ],\n",
       "       ...,\n",
       "       [ 0.573 ,  6.976 ,  2.1675, 21.    ,  5.64  ],\n",
       "       [ 0.573 ,  6.794 ,  2.3889, 21.    ,  6.48  ],\n",
       "       [ 0.573 ,  6.03  ,  2.505 , 21.    ,  7.88  ]])"
      ]
     },
     "execution_count": 27,
     "metadata": {},
     "output_type": "execute_result"
    }
   ],
   "source": [
    "x[x.columns[result2.support_]].values"
   ]
  },
  {
   "cell_type": "code",
   "execution_count": null,
   "id": "abda9ee6-19aa-4431-b8ed-e3c68fcc2cda",
   "metadata": {},
   "outputs": [],
   "source": []
  },
  {
   "cell_type": "code",
   "execution_count": null,
   "id": "511bae9c-9270-4213-8ee7-a4e049e4b869",
   "metadata": {},
   "outputs": [],
   "source": [
    "# methord 02 "
   ]
  },
  {
   "cell_type": "code",
   "execution_count": 28,
   "id": "9a55bac7-caab-46f9-8465-edc74c158397",
   "metadata": {},
   "outputs": [],
   "source": [
    "x_new2 = rfecv.fit_transform(x,y)"
   ]
  },
  {
   "cell_type": "code",
   "execution_count": 29,
   "id": "1d9d9864-dcb3-4e36-90f1-45583247ae66",
   "metadata": {},
   "outputs": [
    {
     "data": {
      "text/plain": [
       "array([[ 0.538 ,  6.575 ,  4.09  , 15.3   ,  4.98  ],\n",
       "       [ 0.469 ,  6.421 ,  4.9671, 17.8   ,  9.14  ],\n",
       "       [ 0.469 ,  7.185 ,  4.9671, 17.8   ,  4.03  ],\n",
       "       ...,\n",
       "       [ 0.573 ,  6.976 ,  2.1675, 21.    ,  5.64  ],\n",
       "       [ 0.573 ,  6.794 ,  2.3889, 21.    ,  6.48  ],\n",
       "       [ 0.573 ,  6.03  ,  2.505 , 21.    ,  7.88  ]])"
      ]
     },
     "execution_count": 29,
     "metadata": {},
     "output_type": "execute_result"
    }
   ],
   "source": [
    "x_new2"
   ]
  },
  {
   "cell_type": "code",
   "execution_count": null,
   "id": "e6ad3a54-683b-4be5-a71d-2f479d464d58",
   "metadata": {},
   "outputs": [],
   "source": []
  }
 ],
 "metadata": {
  "kernelspec": {
   "display_name": "Python 3 (ipykernel)",
   "language": "python",
   "name": "python3"
  },
  "language_info": {
   "codemirror_mode": {
    "name": "ipython",
    "version": 3
   },
   "file_extension": ".py",
   "mimetype": "text/x-python",
   "name": "python",
   "nbconvert_exporter": "python",
   "pygments_lexer": "ipython3",
   "version": "3.12.7"
  }
 },
 "nbformat": 4,
 "nbformat_minor": 5
}
